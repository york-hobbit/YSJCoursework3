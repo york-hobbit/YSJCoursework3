{
 "cells": [
  {
   "cell_type": "code",
   "execution_count": null,
   "id": "6ff34310",
   "metadata": {
    "_cell_guid": "b1076dfc-b9ad-4769-8c92-a6c4dae69d19",
    "_uuid": "8f2839f25d086af736a60e9eeb907d3b93b6e0e5",
    "execution": {
     "iopub.execute_input": "2023-05-22T14:26:30.036721Z",
     "iopub.status.busy": "2023-05-22T14:26:30.035317Z",
     "iopub.status.idle": "2023-05-22T14:26:30.054177Z",
     "shell.execute_reply": "2023-05-22T14:26:30.052873Z"
    },
    "papermill": {
     "duration": 0.028146,
     "end_time": "2023-05-22T14:26:30.057286",
     "exception": false,
     "start_time": "2023-05-22T14:26:30.029140",
     "status": "completed"
    },
    "tags": []
   },
   "outputs": [],
   "source": [
    "# This Python 3 environment comes with many helpful analytics libraries installed\n",
    "# It is defined by the kaggle/python Docker image: https://github.com/kaggle/docker-python\n",
    "# For example, here's several helpful packages to load\n",
    "\n",
    "import numpy as np # linear algebra\n",
    "import pandas as pd # data processing, CSV file I/O (e.g. pd.read_csv)\n",
    "\n",
    "# Input data files are available in the read-only \"../input/\" directory\n",
    "# For example, running this (by clicking run or pressing Shift+Enter) will list all files under the input directory\n",
    "\n",
    "import os\n",
    "for dirname, _, filenames in os.walk('/kaggle/input'):\n",
    "    for filename in filenames:\n",
    "        print(os.path.join(dirname, filename))\n",
    "\n",
    "# You can write up to 20GB to the current directory (/kaggle/working/) that gets preserved as output when you create a version using \"Save & Run All\" \n",
    "# You can also write temporary files to /kaggle/temp/, but they won't be saved outside of the current session"
   ]
  },
  {
   "cell_type": "code",
   "execution_count": null,
   "id": "c8f0943b",
   "metadata": {
    "execution": {
     "iopub.execute_input": "2023-05-22T14:26:30.066893Z",
     "iopub.status.busy": "2023-05-22T14:26:30.066420Z",
     "iopub.status.idle": "2023-05-22T14:29:15.329378Z",
     "shell.execute_reply": "2023-05-22T14:29:15.327255Z"
    },
    "papermill": {
     "duration": 165.281423,
     "end_time": "2023-05-22T14:29:15.342800",
     "exception": false,
     "start_time": "2023-05-22T14:26:30.061377",
     "status": "completed"
    },
    "tags": []
   },
   "outputs": [],
   "source": [
    "df = pd.read_json('/kaggle/input/arxiv/arxiv-metadata-oai-snapshot.json', lines=True)\n",
    "df.head()\n"
   ]
  },
  {
   "cell_type": "code",
   "execution_count": null,
   "id": "c0826ea0",
   "metadata": {
    "execution": {
     "iopub.execute_input": "2023-05-22T14:29:15.354947Z",
     "iopub.status.busy": "2023-05-22T14:29:15.353629Z",
     "iopub.status.idle": "2023-05-22T14:29:16.283115Z",
     "shell.execute_reply": "2023-05-22T14:29:16.281481Z"
    },
    "papermill": {
     "duration": 0.939,
     "end_time": "2023-05-22T14:29:16.286134",
     "exception": false,
     "start_time": "2023-05-22T14:29:15.347134",
     "status": "completed"
    },
    "scrolled": true,
    "tags": []
   },
   "outputs": [],
   "source": [
    "#create new df with the five columns of interest\n",
    "new_df = df[['id','title','comments','journal-ref','categories']].copy()\n",
    "new_df.head()\n"
   ]
  },
  {
   "cell_type": "code",
   "execution_count": null,
   "id": "0929f496",
   "metadata": {
    "execution": {
     "iopub.execute_input": "2023-05-22T14:29:16.297333Z",
     "iopub.status.busy": "2023-05-22T14:29:16.296780Z",
     "iopub.status.idle": "2023-05-22T14:29:32.110062Z",
     "shell.execute_reply": "2023-05-22T14:29:32.108891Z"
    },
    "papermill": {
     "duration": 15.82197,
     "end_time": "2023-05-22T14:29:32.112718",
     "exception": false,
     "start_time": "2023-05-22T14:29:16.290748",
     "status": "completed"
    },
    "tags": []
   },
   "outputs": [],
   "source": [
    "new_df.describe(include='all')"
   ]
  },
  {
   "cell_type": "code",
   "execution_count": null,
   "id": "214736ba",
   "metadata": {
    "execution": {
     "iopub.execute_input": "2023-05-22T14:29:32.125155Z",
     "iopub.status.busy": "2023-05-22T14:29:32.123860Z",
     "iopub.status.idle": "2023-05-22T14:29:32.147269Z",
     "shell.execute_reply": "2023-05-22T14:29:32.145397Z"
    },
    "papermill": {
     "duration": 0.033096,
     "end_time": "2023-05-22T14:29:32.150526",
     "exception": false,
     "start_time": "2023-05-22T14:29:32.117430",
     "status": "completed"
    },
    "tags": []
   },
   "outputs": [],
   "source": [
    "new_df.info()"
   ]
  },
  {
   "cell_type": "code",
   "execution_count": null,
   "id": "30149ec4",
   "metadata": {
    "execution": {
     "iopub.execute_input": "2023-05-22T14:29:32.162380Z",
     "iopub.status.busy": "2023-05-22T14:29:32.161904Z",
     "iopub.status.idle": "2023-05-22T14:29:32.166905Z",
     "shell.execute_reply": "2023-05-22T14:29:32.165678Z"
    },
    "papermill": {
     "duration": 0.014023,
     "end_time": "2023-05-22T14:29:32.169405",
     "exception": false,
     "start_time": "2023-05-22T14:29:32.155382",
     "status": "completed"
    },
    "tags": []
   },
   "outputs": [],
   "source": [
    "#Drop rows containing COVID+ in the title"
   ]
  },
  {
   "cell_type": "code",
   "execution_count": null,
   "id": "bc41f8d5",
   "metadata": {
    "execution": {
     "iopub.execute_input": "2023-05-22T14:29:32.181147Z",
     "iopub.status.busy": "2023-05-22T14:29:32.180643Z",
     "iopub.status.idle": "2023-05-22T14:29:35.959535Z",
     "shell.execute_reply": "2023-05-22T14:29:35.957777Z"
    },
    "papermill": {
     "duration": 3.788234,
     "end_time": "2023-05-22T14:29:35.962731",
     "exception": false,
     "start_time": "2023-05-22T14:29:32.174497",
     "status": "completed"
    },
    "tags": []
   },
   "outputs": [],
   "source": [
    "new_df = new_df[new_df[\"title\"].str.contains(\"COVID|Covid|covid\") == False]\n",
    "  "
   ]
  },
  {
   "cell_type": "code",
   "execution_count": null,
   "id": "3a5f15ac",
   "metadata": {
    "execution": {
     "iopub.execute_input": "2023-05-22T14:29:35.974409Z",
     "iopub.status.busy": "2023-05-22T14:29:35.973518Z",
     "iopub.status.idle": "2023-05-22T14:29:39.344662Z",
     "shell.execute_reply": "2023-05-22T14:29:39.343550Z"
    },
    "papermill": {
     "duration": 3.379986,
     "end_time": "2023-05-22T14:29:39.347484",
     "exception": false,
     "start_time": "2023-05-22T14:29:35.967498",
     "status": "completed"
    },
    "tags": []
   },
   "outputs": [],
   "source": [
    "#Drop rows with NanN or None in the comments and check number of rows\n",
    "\n",
    "new_df.dropna(subset = ['comments'])\n",
    "new_df.info()"
   ]
  },
  {
   "cell_type": "code",
   "execution_count": null,
   "id": "e7718a40",
   "metadata": {
    "execution": {
     "iopub.execute_input": "2023-05-22T14:29:39.358733Z",
     "iopub.status.busy": "2023-05-22T14:29:39.358259Z",
     "iopub.status.idle": "2023-05-22T14:29:39.371820Z",
     "shell.execute_reply": "2023-05-22T14:29:39.370584Z"
    },
    "papermill": {
     "duration": 0.022116,
     "end_time": "2023-05-22T14:29:39.374285",
     "exception": false,
     "start_time": "2023-05-22T14:29:39.352169",
     "status": "completed"
    },
    "tags": []
   },
   "outputs": [],
   "source": [
    "new_df.head()\n"
   ]
  },
  {
   "cell_type": "code",
   "execution_count": null,
   "id": "efc90426",
   "metadata": {
    "execution": {
     "iopub.execute_input": "2023-05-22T14:29:39.386097Z",
     "iopub.status.busy": "2023-05-22T14:29:39.385661Z",
     "iopub.status.idle": "2023-05-22T14:29:52.423514Z",
     "shell.execute_reply": "2023-05-22T14:29:52.422387Z"
    },
    "papermill": {
     "duration": 13.047907,
     "end_time": "2023-05-22T14:29:52.427055",
     "exception": false,
     "start_time": "2023-05-22T14:29:39.379148",
     "status": "completed"
    },
    "tags": []
   },
   "outputs": [],
   "source": [
    "#Export new data to csv\n",
    "new_df.to_csv('mycsvfile2.csv',index=False)"
   ]
  }
 ],
 "metadata": {
  "kernelspec": {
   "display_name": "Python 3 (ipykernel)",
   "language": "python",
   "name": "python3"
  },
  "language_info": {
   "codemirror_mode": {
    "name": "ipython",
    "version": 3
   },
   "file_extension": ".py",
   "mimetype": "text/x-python",
   "name": "python",
   "nbconvert_exporter": "python",
   "pygments_lexer": "ipython3",
   "version": "3.9.15"
  },
  "papermill": {
   "default_parameters": {},
   "duration": 220.352455,
   "end_time": "2023-05-22T14:29:56.160989",
   "environment_variables": {},
   "exception": null,
   "input_path": "__notebook__.ipynb",
   "output_path": "__notebook__.ipynb",
   "parameters": {},
   "start_time": "2023-05-22T14:26:15.808534",
   "version": "2.4.0"
  }
 },
 "nbformat": 4,
 "nbformat_minor": 5
}
